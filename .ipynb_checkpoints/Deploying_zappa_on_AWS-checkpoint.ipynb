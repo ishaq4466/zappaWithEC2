{
 "cells": [
  {
   "cell_type": "markdown",
   "metadata": {},
   "source": [
    "#  Deploying zappa on aws for deploying serverless app (flask)"
   ]
  },
  {
   "cell_type": "markdown",
   "metadata": {},
   "source": [
    "## Install aws cmdline on ec2\n",
    "```\n",
    "$ conda install -c conda-forge awscli\n",
    "```"
   ]
  },
  {
   "cell_type": "markdown",
   "metadata": {},
   "source": [
    "## Configure aws credential on ec2 (must needed step)\n",
    "\n",
    "```\n",
    "$ aws configure\n",
    "\n",
    "```\n",
    "> **add your aws access key and secret access keys**\n",
    "\n",
    "> **can view the keys deatail, cd ~/.aws **\n"
   ]
  },
  {
   "cell_type": "markdown",
   "metadata": {},
   "source": [
    "## Create a virtual env. & activate the environment\n",
    "```\n",
    "$ conda create --name environment_name\n",
    "$ source activate myenv\n",
    "$ source deactivate myenv\n",
    "```"
   ]
  },
  {
   "cell_type": "markdown",
   "metadata": {},
   "source": [
    "## Install flask and zappa inside the VE\n",
    "```\n",
    "$ conda install -c anaconda flask \n",
    "$ conda install -c mathieu zappa\n",
    "```"
   ]
  },
  {
   "cell_type": "markdown",
   "metadata": {},
   "source": [
    "## Make a directory for flask App create an helloWorld flask project\n",
    "```\n",
    "$ mkdir flaskPro\n",
    "$ cd flaskPro\n",
    "$ wget https://github.com/ishaq4466/aws/tree/master/basicFlskApp\n",
    "```"
   ]
  },
  {
   "cell_type": "markdown",
   "metadata": {},
   "source": [
    "## Initialize zappa inside the flaskApp dir\n",
    "## and configure the zappa pro\n",
    "```\n",
    "$ zappa init\n",
    "```"
   ]
  },
  {
   "cell_type": "markdown",
   "metadata": {},
   "source": [
    "## Make changes in the zappa_seeting.json\n",
    "## it should look like below after modifying it \n",
    "```\n",
    "\n",
    "{\n",
    "   \"dev\": {\n",
    "        \"app_function\": \"app.app\",\n",
    "        \"s3_bucket\": \"zappa-xxxxx\",\n",
    "        \"slim_handler\": true,\n",
    "        \"runtime\": \"python3.6\"\n",
    "    }\n",
    "}\n",
    "\n",
    "```"
   ]
  },
  {
   "cell_type": "markdown",
   "metadata": {},
   "source": [
    "## Deploy the project using \"deploy\" \n",
    "```\n",
    "$ zappa deploy dev\n",
    "$ zappa -h \n",
    "\n",
    "> You will get an api after successfull deployment\n",
    "```"
   ]
  },
  {
   "cell_type": "markdown",
   "metadata": {},
   "source": [
    "## Additional resources on zappa\n",
    "\n",
    "### [Resource 1](https://hackernoon.com/deploy-a-serverless-flask-application-on-aws-lambda-d8ca58af42a4)\n",
    "### [Resource 2](https://medium.com/@patrickmichelberger/how-to-deploy-a-serverless-machine-learning-microservice-with-aws-lambda-aws-api-gateway-and-d5b8cbead846)\n",
    "### [Resource 3\\* ](https://github.com/Miserlou/Zappa/issues/1471#issuecomment-381437537)\n",
    "\n",
    "### Any help or issue related query mail me@ smartbuddy1995@gmail.com \n"
   ]
  }
 ],
 "metadata": {
  "kernelspec": {
   "display_name": "Python 3",
   "language": "python",
   "name": "python3"
  },
  "language_info": {
   "codemirror_mode": {
    "name": "ipython",
    "version": 3
   },
   "file_extension": ".py",
   "mimetype": "text/x-python",
   "name": "python",
   "nbconvert_exporter": "python",
   "pygments_lexer": "ipython3",
   "version": "3.6.1"
  }
 },
 "nbformat": 4,
 "nbformat_minor": 2
}
